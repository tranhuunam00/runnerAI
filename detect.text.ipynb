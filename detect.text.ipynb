{
 "cells": [
  {
   "cell_type": "code",
   "execution_count": 5,
   "metadata": {},
   "outputs": [
    {
     "name": "stdout",
     "output_type": "stream",
     "text": [
      "Collecting python-doctr\n",
      "  Using cached python_doctr-0.8.1-py3-none-any.whl.metadata (33 kB)\n",
      "Requirement already satisfied: importlib-metadata in c:\\users\\admin\\appdata\\local\\packages\\pythonsoftwarefoundation.python.3.10_qbz5n2kfra8p0\\localcache\\local-packages\\python310\\site-packages (from python-doctr) (7.1.0)\n",
      "Requirement already satisfied: numpy<2.0.0,>=1.16.0 in c:\\users\\admin\\appdata\\local\\packages\\pythonsoftwarefoundation.python.3.10_qbz5n2kfra8p0\\localcache\\local-packages\\python310\\site-packages (from python-doctr) (1.24.4)\n",
      "Requirement already satisfied: scipy<2.0.0,>=1.4.0 in c:\\users\\admin\\appdata\\local\\packages\\pythonsoftwarefoundation.python.3.10_qbz5n2kfra8p0\\localcache\\local-packages\\python310\\site-packages (from python-doctr) (1.11.0)\n",
      "Requirement already satisfied: h5py<4.0.0,>=3.1.0 in c:\\users\\admin\\appdata\\local\\packages\\pythonsoftwarefoundation.python.3.10_qbz5n2kfra8p0\\localcache\\local-packages\\python310\\site-packages (from python-doctr) (3.10.0)\n",
      "Requirement already satisfied: opencv-python<5.0.0,>=4.5.0 in c:\\users\\admin\\appdata\\local\\packages\\pythonsoftwarefoundation.python.3.10_qbz5n2kfra8p0\\localcache\\local-packages\\python310\\site-packages (from python-doctr) (4.8.1.78)\n",
      "Requirement already satisfied: pypdfium2<5.0.0,>=4.0.0 in c:\\users\\admin\\appdata\\local\\packages\\pythonsoftwarefoundation.python.3.10_qbz5n2kfra8p0\\localcache\\local-packages\\python310\\site-packages (from python-doctr) (4.29.0)\n",
      "Requirement already satisfied: pyclipper<2.0.0,>=1.2.0 in c:\\users\\admin\\appdata\\local\\packages\\pythonsoftwarefoundation.python.3.10_qbz5n2kfra8p0\\localcache\\local-packages\\python310\\site-packages (from python-doctr) (1.3.0.post5)\n",
      "Requirement already satisfied: shapely<3.0.0,>=1.6.0 in c:\\users\\admin\\appdata\\local\\packages\\pythonsoftwarefoundation.python.3.10_qbz5n2kfra8p0\\localcache\\local-packages\\python310\\site-packages (from python-doctr) (2.0.3)\n",
      "Requirement already satisfied: langdetect<2.0.0,>=1.0.9 in c:\\users\\admin\\appdata\\local\\packages\\pythonsoftwarefoundation.python.3.10_qbz5n2kfra8p0\\localcache\\local-packages\\python310\\site-packages (from python-doctr) (1.0.9)\n",
      "Requirement already satisfied: rapidfuzz<4.0.0,>=3.0.0 in c:\\users\\admin\\appdata\\local\\packages\\pythonsoftwarefoundation.python.3.10_qbz5n2kfra8p0\\localcache\\local-packages\\python310\\site-packages (from python-doctr) (3.8.1)\n",
      "Collecting huggingface-hub<1.0.0,>=0.20.0 (from python-doctr)\n",
      "  Using cached huggingface_hub-0.22.2-py3-none-any.whl.metadata (12 kB)\n",
      "Collecting matplotlib>=3.1.0 (from python-doctr)\n",
      "  Using cached matplotlib-3.8.4-cp310-cp310-win_amd64.whl.metadata (5.9 kB)\n",
      "Collecting weasyprint>=55.0 (from python-doctr)\n",
      "  Using cached weasyprint-61.2-py3-none-any.whl.metadata (3.7 kB)\n",
      "Requirement already satisfied: Pillow>=9.2.0 in c:\\users\\admin\\appdata\\local\\packages\\pythonsoftwarefoundation.python.3.10_qbz5n2kfra8p0\\localcache\\local-packages\\python310\\site-packages (from python-doctr) (9.5.0)\n",
      "Requirement already satisfied: defusedxml>=0.7.0 in c:\\users\\admin\\appdata\\local\\packages\\pythonsoftwarefoundation.python.3.10_qbz5n2kfra8p0\\localcache\\local-packages\\python310\\site-packages (from python-doctr) (0.7.1)\n",
      "Collecting mplcursors>=0.3 (from python-doctr)\n",
      "  Using cached mplcursors-0.5.3-py3-none-any.whl\n",
      "Requirement already satisfied: unidecode>=1.0.0 in c:\\users\\admin\\appdata\\local\\packages\\pythonsoftwarefoundation.python.3.10_qbz5n2kfra8p0\\localcache\\local-packages\\python310\\site-packages (from python-doctr) (1.3.8)\n",
      "Requirement already satisfied: tqdm>=4.30.0 in c:\\users\\admin\\appdata\\local\\packages\\pythonsoftwarefoundation.python.3.10_qbz5n2kfra8p0\\localcache\\local-packages\\python310\\site-packages (from python-doctr) (4.65.0)\n",
      "Requirement already satisfied: filelock in c:\\users\\admin\\appdata\\local\\packages\\pythonsoftwarefoundation.python.3.10_qbz5n2kfra8p0\\localcache\\local-packages\\python310\\site-packages (from huggingface-hub<1.0.0,>=0.20.0->python-doctr) (3.12.2)\n",
      "Requirement already satisfied: fsspec>=2023.5.0 in c:\\users\\admin\\appdata\\local\\packages\\pythonsoftwarefoundation.python.3.10_qbz5n2kfra8p0\\localcache\\local-packages\\python310\\site-packages (from huggingface-hub<1.0.0,>=0.20.0->python-doctr) (2024.3.1)\n",
      "Requirement already satisfied: packaging>=20.9 in c:\\users\\admin\\appdata\\local\\packages\\pythonsoftwarefoundation.python.3.10_qbz5n2kfra8p0\\localcache\\local-packages\\python310\\site-packages (from huggingface-hub<1.0.0,>=0.20.0->python-doctr) (23.1)\n",
      "Requirement already satisfied: pyyaml>=5.1 in c:\\users\\admin\\appdata\\local\\packages\\pythonsoftwarefoundation.python.3.10_qbz5n2kfra8p0\\localcache\\local-packages\\python310\\site-packages (from huggingface-hub<1.0.0,>=0.20.0->python-doctr) (6.0.1)\n",
      "Requirement already satisfied: requests in c:\\users\\admin\\appdata\\local\\packages\\pythonsoftwarefoundation.python.3.10_qbz5n2kfra8p0\\localcache\\local-packages\\python310\\site-packages (from huggingface-hub<1.0.0,>=0.20.0->python-doctr) (2.31.0)\n",
      "Requirement already satisfied: typing-extensions>=3.7.4.3 in c:\\users\\admin\\appdata\\local\\packages\\pythonsoftwarefoundation.python.3.10_qbz5n2kfra8p0\\localcache\\local-packages\\python310\\site-packages (from huggingface-hub<1.0.0,>=0.20.0->python-doctr) (4.7.1)\n",
      "Requirement already satisfied: six in c:\\users\\admin\\appdata\\local\\packages\\pythonsoftwarefoundation.python.3.10_qbz5n2kfra8p0\\localcache\\local-packages\\python310\\site-packages (from langdetect<2.0.0,>=1.0.9->python-doctr) (1.16.0)\n",
      "Requirement already satisfied: contourpy>=1.0.1 in c:\\users\\admin\\appdata\\local\\packages\\pythonsoftwarefoundation.python.3.10_qbz5n2kfra8p0\\localcache\\local-packages\\python310\\site-packages (from matplotlib>=3.1.0->python-doctr) (1.1.0)\n",
      "Requirement already satisfied: cycler>=0.10 in c:\\users\\admin\\appdata\\local\\packages\\pythonsoftwarefoundation.python.3.10_qbz5n2kfra8p0\\localcache\\local-packages\\python310\\site-packages (from matplotlib>=3.1.0->python-doctr) (0.11.0)\n",
      "Requirement already satisfied: fonttools>=4.22.0 in c:\\users\\admin\\appdata\\local\\packages\\pythonsoftwarefoundation.python.3.10_qbz5n2kfra8p0\\localcache\\local-packages\\python310\\site-packages (from matplotlib>=3.1.0->python-doctr) (4.40.0)\n",
      "Requirement already satisfied: kiwisolver>=1.3.1 in c:\\users\\admin\\appdata\\local\\packages\\pythonsoftwarefoundation.python.3.10_qbz5n2kfra8p0\\localcache\\local-packages\\python310\\site-packages (from matplotlib>=3.1.0->python-doctr) (1.4.4)\n",
      "Requirement already satisfied: pyparsing>=2.3.1 in c:\\users\\admin\\appdata\\local\\packages\\pythonsoftwarefoundation.python.3.10_qbz5n2kfra8p0\\localcache\\local-packages\\python310\\site-packages (from matplotlib>=3.1.0->python-doctr) (3.1.0)\n",
      "Requirement already satisfied: python-dateutil>=2.7 in c:\\users\\admin\\appdata\\local\\packages\\pythonsoftwarefoundation.python.3.10_qbz5n2kfra8p0\\localcache\\local-packages\\python310\\site-packages (from matplotlib>=3.1.0->python-doctr) (2.8.2)\n",
      "Requirement already satisfied: colorama in c:\\users\\admin\\appdata\\local\\packages\\pythonsoftwarefoundation.python.3.10_qbz5n2kfra8p0\\localcache\\local-packages\\python310\\site-packages (from tqdm>=4.30.0->python-doctr) (0.4.6)\n",
      "Requirement already satisfied: pydyf>=0.8.0 in c:\\users\\admin\\appdata\\local\\packages\\pythonsoftwarefoundation.python.3.10_qbz5n2kfra8p0\\localcache\\local-packages\\python310\\site-packages (from weasyprint>=55.0->python-doctr) (0.9.0)\n",
      "Requirement already satisfied: cffi>=0.6 in c:\\users\\admin\\appdata\\local\\packages\\pythonsoftwarefoundation.python.3.10_qbz5n2kfra8p0\\localcache\\local-packages\\python310\\site-packages (from weasyprint>=55.0->python-doctr) (1.16.0)\n",
      "Requirement already satisfied: html5lib>=1.1 in c:\\users\\admin\\appdata\\local\\packages\\pythonsoftwarefoundation.python.3.10_qbz5n2kfra8p0\\localcache\\local-packages\\python310\\site-packages (from weasyprint>=55.0->python-doctr) (1.1)\n",
      "Requirement already satisfied: tinycss2>=1.0.0 in c:\\users\\admin\\appdata\\local\\packages\\pythonsoftwarefoundation.python.3.10_qbz5n2kfra8p0\\localcache\\local-packages\\python310\\site-packages (from weasyprint>=55.0->python-doctr) (1.2.1)\n",
      "Collecting cssselect2>=0.1 (from weasyprint>=55.0->python-doctr)\n",
      "  Using cached cssselect2-0.7.0-py3-none-any.whl.metadata (2.9 kB)\n",
      "Requirement already satisfied: Pyphen>=0.9.1 in c:\\users\\admin\\appdata\\local\\packages\\pythonsoftwarefoundation.python.3.10_qbz5n2kfra8p0\\localcache\\local-packages\\python310\\site-packages (from weasyprint>=55.0->python-doctr) (0.14.0)\n",
      "Requirement already satisfied: zipp>=0.5 in c:\\users\\admin\\appdata\\local\\packages\\pythonsoftwarefoundation.python.3.10_qbz5n2kfra8p0\\localcache\\local-packages\\python310\\site-packages (from importlib-metadata->python-doctr) (3.18.1)\n",
      "Requirement already satisfied: pycparser in c:\\users\\admin\\appdata\\local\\packages\\pythonsoftwarefoundation.python.3.10_qbz5n2kfra8p0\\localcache\\local-packages\\python310\\site-packages (from cffi>=0.6->weasyprint>=55.0->python-doctr) (2.21)\n",
      "Requirement already satisfied: webencodings in c:\\users\\admin\\appdata\\local\\packages\\pythonsoftwarefoundation.python.3.10_qbz5n2kfra8p0\\localcache\\local-packages\\python310\\site-packages (from cssselect2>=0.1->weasyprint>=55.0->python-doctr) (0.5.1)\n",
      "Requirement already satisfied: zopfli>=0.1.4 in c:\\users\\admin\\appdata\\local\\packages\\pythonsoftwarefoundation.python.3.10_qbz5n2kfra8p0\\localcache\\local-packages\\python310\\site-packages (from fonttools[woff]>=4.0.0->weasyprint>=55.0->python-doctr) (0.2.3)\n",
      "Requirement already satisfied: brotli>=1.0.1 in c:\\users\\admin\\appdata\\local\\packages\\pythonsoftwarefoundation.python.3.10_qbz5n2kfra8p0\\localcache\\local-packages\\python310\\site-packages (from fonttools[woff]>=4.0.0->weasyprint>=55.0->python-doctr) (1.1.0)\n",
      "Requirement already satisfied: charset-normalizer<4,>=2 in c:\\users\\admin\\appdata\\local\\packages\\pythonsoftwarefoundation.python.3.10_qbz5n2kfra8p0\\localcache\\local-packages\\python310\\site-packages (from requests->huggingface-hub<1.0.0,>=0.20.0->python-doctr) (3.2.0)\n",
      "Requirement already satisfied: idna<4,>=2.5 in c:\\users\\admin\\appdata\\local\\packages\\pythonsoftwarefoundation.python.3.10_qbz5n2kfra8p0\\localcache\\local-packages\\python310\\site-packages (from requests->huggingface-hub<1.0.0,>=0.20.0->python-doctr) (3.4)\n",
      "Requirement already satisfied: urllib3<3,>=1.21.1 in c:\\users\\admin\\appdata\\local\\packages\\pythonsoftwarefoundation.python.3.10_qbz5n2kfra8p0\\localcache\\local-packages\\python310\\site-packages (from requests->huggingface-hub<1.0.0,>=0.20.0->python-doctr) (2.0.4)\n",
      "Requirement already satisfied: certifi>=2017.4.17 in c:\\users\\admin\\appdata\\local\\packages\\pythonsoftwarefoundation.python.3.10_qbz5n2kfra8p0\\localcache\\local-packages\\python310\\site-packages (from requests->huggingface-hub<1.0.0,>=0.20.0->python-doctr) (2023.5.7)\n",
      "Using cached python_doctr-0.8.1-py3-none-any.whl (295 kB)\n",
      "Using cached huggingface_hub-0.22.2-py3-none-any.whl (388 kB)\n",
      "Using cached matplotlib-3.8.4-cp310-cp310-win_amd64.whl (7.7 MB)\n",
      "Using cached weasyprint-61.2-py3-none-any.whl (271 kB)\n",
      "Using cached cssselect2-0.7.0-py3-none-any.whl (15 kB)\n",
      "Installing collected packages: matplotlib, huggingface-hub, cssselect2, weasyprint, mplcursors, python-doctr\n",
      "Successfully installed cssselect2-0.7.0 huggingface-hub-0.22.2 matplotlib-3.8.4 mplcursors-0.5.3 python-doctr-0.8.1 weasyprint-61.2\n"
     ]
    },
    {
     "name": "stderr",
     "output_type": "stream",
     "text": [
      "WARNING: Ignoring invalid distribution -atplotlib (c:\\users\\admin\\appdata\\local\\packages\\pythonsoftwarefoundation.python.3.10_qbz5n2kfra8p0\\localcache\\local-packages\\python310\\site-packages)\n",
      "WARNING: Ignoring invalid distribution -atplotlib (c:\\users\\admin\\appdata\\local\\packages\\pythonsoftwarefoundation.python.3.10_qbz5n2kfra8p0\\localcache\\local-packages\\python310\\site-packages)\n",
      "WARNING: Ignoring invalid distribution -atplotlib (c:\\users\\admin\\appdata\\local\\packages\\pythonsoftwarefoundation.python.3.10_qbz5n2kfra8p0\\localcache\\local-packages\\python310\\site-packages)\n",
      "WARNING: Ignoring invalid distribution -atplotlib (c:\\users\\admin\\appdata\\local\\packages\\pythonsoftwarefoundation.python.3.10_qbz5n2kfra8p0\\localcache\\local-packages\\python310\\site-packages)\n"
     ]
    },
    {
     "name": "stdout",
     "output_type": "stream",
     "text": [
      "Requirement already satisfied: pip in c:\\users\\admin\\appdata\\local\\packages\\pythonsoftwarefoundation.python.3.10_qbz5n2kfra8p0\\localcache\\local-packages\\python310\\site-packages (24.0)\n",
      "Collecting install\n",
      "  Downloading install-1.3.5-py3-none-any.whl.metadata (925 bytes)\n",
      "Requirement already satisfied: doctr in c:\\users\\admin\\appdata\\local\\packages\\pythonsoftwarefoundation.python.3.10_qbz5n2kfra8p0\\localcache\\local-packages\\python310\\site-packages (1.9.0)\n",
      "Requirement already satisfied: pyyaml in c:\\users\\admin\\appdata\\local\\packages\\pythonsoftwarefoundation.python.3.10_qbz5n2kfra8p0\\localcache\\local-packages\\python310\\site-packages (from doctr) (6.0.1)\n",
      "Requirement already satisfied: requests in c:\\users\\admin\\appdata\\local\\packages\\pythonsoftwarefoundation.python.3.10_qbz5n2kfra8p0\\localcache\\local-packages\\python310\\site-packages (from doctr) (2.31.0)\n",
      "Requirement already satisfied: cryptography in c:\\users\\admin\\appdata\\local\\packages\\pythonsoftwarefoundation.python.3.10_qbz5n2kfra8p0\\localcache\\local-packages\\python310\\site-packages (from doctr) (42.0.5)\n",
      "Requirement already satisfied: cffi>=1.12 in c:\\users\\admin\\appdata\\local\\packages\\pythonsoftwarefoundation.python.3.10_qbz5n2kfra8p0\\localcache\\local-packages\\python310\\site-packages (from cryptography->doctr) (1.16.0)\n",
      "Requirement already satisfied: charset-normalizer<4,>=2 in c:\\users\\admin\\appdata\\local\\packages\\pythonsoftwarefoundation.python.3.10_qbz5n2kfra8p0\\localcache\\local-packages\\python310\\site-packages (from requests->doctr) (3.2.0)\n",
      "Requirement already satisfied: idna<4,>=2.5 in c:\\users\\admin\\appdata\\local\\packages\\pythonsoftwarefoundation.python.3.10_qbz5n2kfra8p0\\localcache\\local-packages\\python310\\site-packages (from requests->doctr) (3.4)\n",
      "Requirement already satisfied: urllib3<3,>=1.21.1 in c:\\users\\admin\\appdata\\local\\packages\\pythonsoftwarefoundation.python.3.10_qbz5n2kfra8p0\\localcache\\local-packages\\python310\\site-packages (from requests->doctr) (2.0.4)\n",
      "Requirement already satisfied: certifi>=2017.4.17 in c:\\users\\admin\\appdata\\local\\packages\\pythonsoftwarefoundation.python.3.10_qbz5n2kfra8p0\\localcache\\local-packages\\python310\\site-packages (from requests->doctr) (2023.5.7)\n",
      "Requirement already satisfied: pycparser in c:\\users\\admin\\appdata\\local\\packages\\pythonsoftwarefoundation.python.3.10_qbz5n2kfra8p0\\localcache\\local-packages\\python310\\site-packages (from cffi>=1.12->cryptography->doctr) (2.21)\n",
      "Downloading install-1.3.5-py3-none-any.whl (3.2 kB)\n",
      "Installing collected packages: install\n",
      "Successfully installed install-1.3.5\n"
     ]
    },
    {
     "name": "stderr",
     "output_type": "stream",
     "text": [
      "WARNING: Ignoring invalid distribution -atplotlib (c:\\users\\admin\\appdata\\local\\packages\\pythonsoftwarefoundation.python.3.10_qbz5n2kfra8p0\\localcache\\local-packages\\python310\\site-packages)\n",
      "WARNING: Ignoring invalid distribution -atplotlib (c:\\users\\admin\\appdata\\local\\packages\\pythonsoftwarefoundation.python.3.10_qbz5n2kfra8p0\\localcache\\local-packages\\python310\\site-packages)\n",
      "WARNING: Ignoring invalid distribution -atplotlib (c:\\users\\admin\\appdata\\local\\packages\\pythonsoftwarefoundation.python.3.10_qbz5n2kfra8p0\\localcache\\local-packages\\python310\\site-packages)\n",
      "WARNING: Ignoring invalid distribution -atplotlib (c:\\users\\admin\\appdata\\local\\packages\\pythonsoftwarefoundation.python.3.10_qbz5n2kfra8p0\\localcache\\local-packages\\python310\\site-packages)\n"
     ]
    }
   ],
   "source": [
    "# !pip install ocr_predictor\n",
    "!pip install python-doctr\n",
    "!pip install pip install doctr"
   ]
  },
  {
   "cell_type": "code",
   "execution_count": 14,
   "metadata": {},
   "outputs": [
    {
     "name": "stdout",
     "output_type": "stream",
     "text": [
      "[array([[[117, 147, 173],\n",
      "        [200, 231, 252],\n",
      "        [160, 189, 203],\n",
      "        ...,\n",
      "        [157, 205, 253],\n",
      "        [156, 204, 252],\n",
      "        [156, 204, 252]],\n",
      "\n",
      "       [[182, 210, 232],\n",
      "        [213, 244, 255],\n",
      "        [158, 188, 198],\n",
      "        ...,\n",
      "        [157, 205, 253],\n",
      "        [156, 204, 252],\n",
      "        [156, 204, 252]],\n",
      "\n",
      "       [[196, 227, 245],\n",
      "        [212, 244, 255],\n",
      "        [183, 214, 219],\n",
      "        ...,\n",
      "        [158, 206, 252],\n",
      "        [157, 205, 251],\n",
      "        [156, 204, 250]],\n",
      "\n",
      "       ...,\n",
      "\n",
      "       [[ 55,  81,  94],\n",
      "        [ 60,  86,  99],\n",
      "        [ 62,  88, 101],\n",
      "        ...,\n",
      "        [ 70,  98, 109],\n",
      "        [ 70,  98, 109],\n",
      "        [ 68,  96, 107]],\n",
      "\n",
      "       [[ 53,  79,  92],\n",
      "        [ 61,  87, 100],\n",
      "        [ 65,  91, 104],\n",
      "        ...,\n",
      "        [ 68,  96, 107],\n",
      "        [ 65,  93, 104],\n",
      "        [ 62,  90, 101]],\n",
      "\n",
      "       [[ 54,  80,  93],\n",
      "        [ 56,  82,  95],\n",
      "        [ 59,  85,  98],\n",
      "        ...,\n",
      "        [ 63,  91, 103],\n",
      "        [ 60,  88,  99],\n",
      "        [ 58,  86,  97]]], dtype=uint8)]\n"
     ]
    }
   ],
   "source": [
    "import os\n",
    "os.add_dll_directory(r\"C:\\Program Files\\GTK3-Runtime Win64\\bin\")\n",
    "\n",
    "#  phải tải https://github.com/tschoonj/GTK-for-Windows-Runtime-Environment-Installer/releases/tag/2022-01-04\n",
    "\n",
    "from doctr.io import DocumentFile\n",
    "# PDF\n",
    "# Image\n",
    "single_img_doc = DocumentFile.from_images(\"./input/detectFace/chay.jpg\")\n",
    "print(single_img_doc)"
   ]
  },
  {
   "cell_type": "code",
   "execution_count": 15,
   "metadata": {},
   "outputs": [],
   "source": [
    "from doctr.models import ocr_predictor\n",
    "model = ocr_predictor(pretrained=True)\n",
    "result = model(single_img_doc)"
   ]
  },
  {
   "cell_type": "code",
   "execution_count": 16,
   "metadata": {},
   "outputs": [
    {
     "name": "stdout",
     "output_type": "stream",
     "text": [
      "Document(\n",
      "  (pages): [Page(\n",
      "    dimensions=(681, 1024)\n",
      "    (blocks): [\n",
      "      Block(\n",
      "        (lines): [Line(\n",
      "          (words): [Word(value='a', confidence=0.38)]\n",
      "        )]\n",
      "        (artefacts): []\n",
      "      ),\n",
      "      Block(\n",
      "        (lines): [Line(\n",
      "          (words): [Word(value='a', confidence=0.69)]\n",
      "        )]\n",
      "        (artefacts): []\n",
      "      ),\n",
      "      Block(\n",
      "        (lines): [Line(\n",
      "          (words): [Word(value='1191', confidence=0.34)]\n",
      "        )]\n",
      "        (artefacts): []\n",
      "      ),\n",
      "      Block(\n",
      "        (lines): [Line(\n",
      "          (words): [\n",
      "            Word(value='11', confidence=0.28),\n",
      "            Word(value='85', confidence=1.0),\n",
      "          ]\n",
      "        )]\n",
      "        (artefacts): []\n",
      "      ),\n",
      "      Block(\n",
      "        (lines): [Line(\n",
      "          (words): [Word(value='1091', confidence=0.99)]\n",
      "        )]\n",
      "        (artefacts): []\n",
      "      ),\n",
      "      Block(\n",
      "        (lines): [Line(\n",
      "          (words): [Word(value='E', confidence=0.091)]\n",
      "        )]\n",
      "        (artefacts): []\n",
      "      ),\n",
      "    ]\n",
      "  )]\n",
      ")\n"
     ]
    }
   ],
   "source": [
    "print(result)"
   ]
  }
 ],
 "metadata": {
  "kernelspec": {
   "display_name": "Python 3",
   "language": "python",
   "name": "python3"
  },
  "language_info": {
   "codemirror_mode": {
    "name": "ipython",
    "version": 3
   },
   "file_extension": ".py",
   "mimetype": "text/x-python",
   "name": "python",
   "nbconvert_exporter": "python",
   "pygments_lexer": "ipython3",
   "version": "3.10.11"
  }
 },
 "nbformat": 4,
 "nbformat_minor": 2
}
